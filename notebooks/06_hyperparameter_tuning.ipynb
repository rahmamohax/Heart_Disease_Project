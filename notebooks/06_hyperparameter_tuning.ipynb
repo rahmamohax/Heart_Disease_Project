{
 "cells": [
  {
   "cell_type": "code",
   "execution_count": 3,
   "id": "f2313ce6",
   "metadata": {},
   "outputs": [],
   "source": [
    "# 📚 Import libraries\n",
    "import numpy as np\n",
    "import pandas as pd\n",
    "\n",
    "from sklearn.model_selection import GridSearchCV, RandomizedSearchCV, train_test_split\n",
    "from sklearn.linear_model import LogisticRegression\n",
    "from sklearn.tree import DecisionTreeClassifier\n",
    "from sklearn.ensemble import RandomForestClassifier\n",
    "from sklearn.svm import SVC\n",
    "\n",
    "from sklearn.metrics import accuracy_score, confusion_matrix, classification_report\n"
   ]
  },
  {
   "cell_type": "code",
   "execution_count": 4,
   "id": "6829e760",
   "metadata": {},
   "outputs": [],
   "source": [
    "df = pd.read_csv('../data/cleveland_selected_features.csv')\n",
    "\n",
    "# Separate features and target\n",
    "X = df.drop('target', axis=1)\n",
    "y = df['target']\n",
    "\n",
    "# Train-Test Split\n",
    "X_train, X_test, y_train, y_test = train_test_split(X, y, test_size=0.2, random_state=42, stratify=y)\n"
   ]
  },
  {
   "cell_type": "code",
   "execution_count": null,
   "id": "0e294f9a",
   "metadata": {},
   "outputs": [
    {
     "name": "stdout",
     "output_type": "stream",
     "text": [
      "Best Logistic Regression Params: {'C': 0.01, 'penalty': 'l2', 'solver': 'liblinear'}\n"
     ]
    }
   ],
   "source": [
    "# Logistic Regression (GridSearchCV)\n",
    "\n",
    "lr = LogisticRegression(max_iter=1000)\n",
    "\n",
    "lr_params = {\n",
    "    'C': [0.01, 0.1, 1, 10, 100],\n",
    "    'solver': ['liblinear', 'lbfgs'],\n",
    "    'penalty': ['l2']\n",
    "}\n",
    "\n",
    "lr_grid = GridSearchCV(lr, lr_params, cv=5, scoring='accuracy')\n",
    "lr_grid.fit(X_train, y_train)\n",
    "\n",
    "print(\"Best Logistic Regression Params:\", lr_grid.best_params_)\n",
    "lr_best = lr_grid.best_estimator_\n"
   ]
  },
  {
   "cell_type": "code",
   "execution_count": null,
   "id": "db160dd0",
   "metadata": {},
   "outputs": [
    {
     "name": "stdout",
     "output_type": "stream",
     "text": [
      "🔹 Decision Tree Best Params: {'criterion': 'entropy', 'max_depth': 10, 'min_samples_split': 10}\n"
     ]
    }
   ],
   "source": [
    "#  2. Decision Tree (GridSearchCV)\n",
    "dt = DecisionTreeClassifier(random_state=42)\n",
    "\n",
    "dt_params = {\n",
    "    'max_depth': [3, 5, 10, None],\n",
    "    'min_samples_split': [2, 5, 10],\n",
    "    'criterion': ['gini', 'entropy']\n",
    "}\n",
    "\n",
    "dt_grid = GridSearchCV(dt, dt_params, cv=5, scoring='accuracy')\n",
    "dt_grid.fit(X_train, y_train)\n",
    "\n",
    "print(\"Decision Tree Best Params:\", dt_grid.best_params_)\n",
    "dt_best = dt_grid.best_estimator_\n"
   ]
  },
  {
   "cell_type": "code",
   "execution_count": 11,
   "id": "243bd327",
   "metadata": {},
   "outputs": [
    {
     "name": "stdout",
     "output_type": "stream",
     "text": [
      "🔹 Random Forest Best Params: {'n_estimators': 50, 'min_samples_split': 5, 'min_samples_leaf': 2, 'max_depth': None, 'bootstrap': False}\n"
     ]
    }
   ],
   "source": [
    "# 3. Random Forest (RandomizedSearchCV)\n",
    "rf = RandomForestClassifier(random_state=42)\n",
    "\n",
    "rf_params = {\n",
    "    'n_estimators': [50, 100, 150],\n",
    "    'max_depth': [5, 10, 20, None],\n",
    "    'min_samples_split': [2, 5, 10],\n",
    "    'min_samples_leaf': [1, 2, 4],\n",
    "    'bootstrap': [True, False]\n",
    "}\n",
    "\n",
    "rf_random = RandomizedSearchCV(rf, rf_params, n_iter=20, cv=5, scoring='accuracy', random_state=42)\n",
    "rf_random.fit(X_train, y_train)\n",
    "\n",
    "print(\"🔹 Random Forest Best Params:\", rf_random.best_params_)\n",
    "rf_best = rf_random.best_estimator_\n"
   ]
  },
  {
   "cell_type": "code",
   "execution_count": 13,
   "id": "559cc130",
   "metadata": {},
   "outputs": [
    {
     "name": "stdout",
     "output_type": "stream",
     "text": [
      "\n",
      "Logistic Regression Evaluation:\n",
      "Accuracy: 0.7630057803468208\n",
      "Confusion Matrix:\n",
      " [[  0  40]\n",
      " [  1 132]]\n",
      "Classification Report:\n",
      "               precision    recall  f1-score   support\n",
      "\n",
      "           0       0.00      0.00      0.00        40\n",
      "           1       0.77      0.99      0.87       133\n",
      "\n",
      "    accuracy                           0.76       173\n",
      "   macro avg       0.38      0.50      0.43       173\n",
      "weighted avg       0.59      0.76      0.67       173\n",
      "\n",
      "\n",
      "Decision Tree Evaluation:\n",
      "Accuracy: 0.8728323699421965\n",
      "Confusion Matrix:\n",
      " [[ 26  14]\n",
      " [  8 125]]\n",
      "Classification Report:\n",
      "               precision    recall  f1-score   support\n",
      "\n",
      "           0       0.76      0.65      0.70        40\n",
      "           1       0.90      0.94      0.92       133\n",
      "\n",
      "    accuracy                           0.87       173\n",
      "   macro avg       0.83      0.79      0.81       173\n",
      "weighted avg       0.87      0.87      0.87       173\n",
      "\n",
      "\n",
      "Random Forest Evaluation:\n",
      "Accuracy: 0.8728323699421965\n",
      "Confusion Matrix:\n",
      " [[ 23  17]\n",
      " [  5 128]]\n",
      "Classification Report:\n",
      "               precision    recall  f1-score   support\n",
      "\n",
      "           0       0.82      0.57      0.68        40\n",
      "           1       0.88      0.96      0.92       133\n",
      "\n",
      "    accuracy                           0.87       173\n",
      "   macro avg       0.85      0.77      0.80       173\n",
      "weighted avg       0.87      0.87      0.86       173\n",
      "\n"
     ]
    }
   ],
   "source": [
    "models = {\n",
    "    \"Logistic Regression\": lr_best,\n",
    "    \"Decision Tree\": dt_best,\n",
    "    \"Random Forest\": rf_best\n",
    "}\n",
    "\n",
    "for name, model in models.items():\n",
    "    y_pred = model.predict(X_test)\n",
    "    print(f\"\\n{name} Evaluation:\")\n",
    "    print(\"Accuracy:\", accuracy_score(y_test, y_pred))\n",
    "    print(\"Confusion Matrix:\\n\", confusion_matrix(y_test, y_pred))\n",
    "    print(\"Classification Report:\\n\", classification_report(y_test, y_pred))\n"
   ]
  }
 ],
 "metadata": {
  "kernelspec": {
   "display_name": "Python 3",
   "language": "python",
   "name": "python3"
  },
  "language_info": {
   "codemirror_mode": {
    "name": "ipython",
    "version": 3
   },
   "file_extension": ".py",
   "mimetype": "text/x-python",
   "name": "python",
   "nbconvert_exporter": "python",
   "pygments_lexer": "ipython3",
   "version": "3.11.7"
  }
 },
 "nbformat": 4,
 "nbformat_minor": 5
}
