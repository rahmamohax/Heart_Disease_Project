{
  "cells": [
    {
      "cell_type": "code",
      "execution_count": null,
      "metadata": {
        "vscode": {
          "languageId": "plaintext"
        }
      },
      "outputs": [],
      "source": [
        "## Heart Disease Data Preprocessing\n",
        "\n",
        "This notebook will prepare our heart disease dataset for analysis. We'll:\n",
        "1. Load and clean the data\n",
        "2. Save it in the correct format for further analysis\n"
      ]
    },
    {
      "cell_type": "code",
      "execution_count": 62,
      "metadata": {},
      "outputs": [],
      "source": [
        "import pandas as pd\n",
        "import numpy as np\n",
        "\n",
        "\n",
        "# Step 1: Load dataset with proper missing value handling\n",
        "df = pd.read_csv('../data/cleveland.csv', na_values=['-9', '?', 'name', 'sex'])\n"
      ]
    },
    {
      "cell_type": "code",
      "execution_count": 63,
      "metadata": {},
      "outputs": [],
      "source": [
        "# Step 2: Drop columns with too many missing values (more than 50%)\n",
        "df = df.dropna(axis=1, thresh=len(df) * 0.5)"
      ]
    },
    {
      "cell_type": "code",
      "execution_count": 64,
      "metadata": {},
      "outputs": [],
      "source": [
        "# Step 3: Drop rows with too few valid entries (less than 10 non-null)\n",
        "df = df.dropna(thresh=10)"
      ]
    },
    {
      "cell_type": "code",
      "execution_count": 65,
      "metadata": {},
      "outputs": [],
      "source": [
        "# Step 4: Convert all columns to numeric\n",
        "for col in df.columns:\n",
        "    df[col] = pd.to_numeric(df[col], errors='coerce')"
      ]
    },
    {
      "cell_type": "code",
      "execution_count": 66,
      "metadata": {},
      "outputs": [],
      "source": [
        "# Step 5: Fill missing values with median for numeric columns\n",
        "df.fillna(df.median(numeric_only=True), inplace=True)"
      ]
    },
    {
      "cell_type": "code",
      "execution_count": 67,
      "metadata": {},
      "outputs": [],
      "source": [
        "# Step 6: Define medically valid value ranges for outlier handling\n",
        "valid_ranges = {\n",
        "    'age': (29, 77),\n",
        "    'sex': (0, 1),\n",
        "    'cp': (0, 3),\n",
        "    'trestbps': (94, 200),\n",
        "    'chol': (126, 564),\n",
        "    'fbs': (0, 1),\n",
        "    'restecg': (0, 2),\n",
        "    'thalach': (71, 202),\n",
        "    'exang': (0, 1),\n",
        "    'oldpeak': (0.0, 6.2),\n",
        "    'slope': (0, 2),\n",
        "    'ca': (0, 3),\n",
        "    'thal': (3, 7),\n",
        "    'target': (0, 1)\n",
        "}"
      ]
    },
    {
      "cell_type": "code",
      "execution_count": 68,
      "metadata": {},
      "outputs": [],
      "source": [
        "# Step 7: Clip values to domain-valid ranges\n",
        "for col, (min_val, max_val) in valid_ranges.items():\n",
        "    if col in df.columns:\n",
        "        df[col] = df[col].clip(lower=min_val, upper=max_val)"
      ]
    },
    {
      "cell_type": "code",
      "execution_count": 69,
      "metadata": {},
      "outputs": [],
      "source": [
        "# Step 8: Strictly validate and fix categorical columns with fixed value sets\n",
        "strict_categorical = {\n",
        "    'cp': [0, 1, 2, 3],\n",
        "    'restecg': [0, 1, 2],\n",
        "    'slope': [0, 1, 2],\n",
        "    'ca': [0, 1, 2, 3],\n",
        "    'thal': [3, 6, 7],\n",
        "    'sex': [0, 1],\n",
        "    'fbs': [0, 1],\n",
        "    'exang': [0, 1],\n",
        "    'target': [0, 1]\n",
        "}"
      ]
    },
    {
      "cell_type": "code",
      "execution_count": 70,
      "metadata": {},
      "outputs": [],
      "source": [
        "# Step 9: Round and enforce valid class values\n",
        "for col, valid_vals in strict_categorical.items():\n",
        "    if col in df.columns:\n",
        "        df[col] = df[col].round(0).astype('Int64')\n",
        "        df[col] = df[col].where(df[col].isin(valid_vals), pd.NA)\n",
        "        df[col].fillna(df[col].mode()[0], inplace=True)"
      ]
    },
    {
      "cell_type": "code",
      "execution_count": 71,
      "metadata": {},
      "outputs": [
        {
          "name": "stdout",
          "output_type": "stream",
          "text": [
            "Cleaned dataset summary:\n",
            "<class 'pandas.core.frame.DataFrame'>\n",
            "Index: 864 entries, 1 to 1613\n",
            "Data columns (total 14 columns):\n",
            " #   Column    Non-Null Count  Dtype  \n",
            "---  ------    --------------  -----  \n",
            " 0   age       864 non-null    float64\n",
            " 1   sex       864 non-null    Int64  \n",
            " 2   cp        864 non-null    Int64  \n",
            " 3   trestbps  864 non-null    float64\n",
            " 4   chol      864 non-null    float64\n",
            " 5   fbs       864 non-null    Int64  \n",
            " 6   restecg   864 non-null    Int64  \n",
            " 7   thalach   864 non-null    float64\n",
            " 8   exang     864 non-null    Int64  \n",
            " 9   oldpeak   864 non-null    float64\n",
            " 10  slope     864 non-null    Int64  \n",
            " 11  ca        864 non-null    Int64  \n",
            " 12  thal      864 non-null    Int64  \n",
            " 13  target    864 non-null    Int64  \n",
            "dtypes: Int64(9), float64(5)\n",
            "memory usage: 108.8 KB\n",
            "None\n",
            "              age       sex        cp    trestbps        chol       fbs  \\\n",
            "count  864.000000     864.0     864.0  864.000000  864.000000     864.0   \n",
            "mean    33.947917  0.797454  1.590278  109.186343  131.064815  0.797454   \n",
            "std     14.103600   0.40213  1.153843   30.928561   45.952925   0.40213   \n",
            "min     29.000000       0.0       0.0   94.000000  126.000000       0.0   \n",
            "25%     29.000000       1.0       1.0   94.000000  126.000000       1.0   \n",
            "50%     29.000000       1.0       1.0   94.000000  126.000000       1.0   \n",
            "75%     29.000000       1.0       3.0   94.000000  126.000000       1.0   \n",
            "max     77.000000       1.0       3.0  200.000000  564.000000       1.0   \n",
            "\n",
            "        restecg     thalach     exang     oldpeak     slope        ca  \\\n",
            "count     864.0  864.000000     864.0  864.000000     864.0     864.0   \n",
            "mean   1.178241   84.298611  0.762731    2.246065  1.356481  1.326389   \n",
            "std    0.761586   31.489647  0.425655    2.403186  0.791177  1.125887   \n",
            "min         0.0   71.000000       0.0    0.000000       0.0       0.0   \n",
            "25%         1.0   71.000000       1.0    1.000000       1.0       1.0   \n",
            "50%         1.0   71.000000       1.0    1.000000       2.0       1.0   \n",
            "75%         2.0   71.000000       1.0    6.000000       2.0       3.0   \n",
            "max         2.0  202.000000       1.0    6.200000       2.0       3.0   \n",
            "\n",
            "           thal    target  \n",
            "count     864.0     864.0  \n",
            "mean   4.678241  0.770833  \n",
            "std    1.966271   0.42054  \n",
            "min         3.0       0.0  \n",
            "25%         3.0       1.0  \n",
            "50%         3.0       1.0  \n",
            "75%         7.0       1.0  \n",
            "max         7.0       1.0  \n"
          ]
        }
      ],
      "source": [
        "# Step 10: Final review of the cleaned data\n",
        "print(\"Cleaned dataset summary:\")\n",
        "print(df.info())\n",
        "print(df.describe())"
      ]
    },
    {
      "cell_type": "code",
      "execution_count": 72,
      "metadata": {},
      "outputs": [],
      "source": [
        "df.to_csv('../data/cleaned_cleveland.csv', index=False)\n"
      ]
    }
  ],
  "metadata": {
    "language_info": {
      "name": "python"
    }
  },
  "nbformat": 4,
  "nbformat_minor": 2
}
