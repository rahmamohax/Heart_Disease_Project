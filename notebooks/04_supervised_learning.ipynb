{
 "cells": [
  {
   "cell_type": "code",
   "execution_count": 1,
   "id": "6fa42f30",
   "metadata": {},
   "outputs": [],
   "source": [
    "import pandas as pd\n",
    "import numpy as np\n",
    "import matplotlib.pyplot as plt\n",
    "import seaborn as sns\n",
    "\n",
    "from sklearn.model_selection import train_test_split\n",
    "from sklearn.preprocessing import StandardScaler\n",
    "\n",
    "# Models\n",
    "from sklearn.linear_model import LogisticRegression\n",
    "from sklearn.tree import DecisionTreeClassifier\n",
    "from sklearn.ensemble import RandomForestClassifier\n",
    "from sklearn.svm import SVC\n",
    "\n",
    "# Metrics\n",
    "from sklearn.metrics import accuracy_score, precision_score, recall_score, f1_score\n",
    "from sklearn.metrics import confusion_matrix, classification_report, roc_curve, auc, RocCurveDisplay\n"
   ]
  },
  {
   "cell_type": "code",
   "execution_count": 3,
   "id": "415df039",
   "metadata": {},
   "outputs": [],
   "source": [
    "# Load dataset with selected features\n",
    "df = pd.read_csv(\"../data/cleveland_selected_features.csv\")\n",
    "\n",
    "# Separate features and target\n",
    "X = df.drop(\"target\", axis=1)\n",
    "y = df[\"target\"]\n",
    "\n",
    "# Split into training (80%) and test (20%)\n",
    "X_train, X_test, y_train, y_test = train_test_split(\n",
    "    X, y, test_size=0.2, random_state=42, stratify=y\n",
    ")\n",
    "\n",
    "# Scale features (especially needed for SVM and Logistic Regression)\n",
    "scaler = StandardScaler()\n",
    "X_train_scaled = scaler.fit_transform(X_train)\n",
    "X_test_scaled = scaler.transform(X_test)\n"
   ]
  },
  {
   "cell_type": "code",
   "execution_count": 4,
   "id": "0a76980f",
   "metadata": {},
   "outputs": [],
   "source": [
    "def evaluate_model(name, model, X_train, y_train, X_test, y_test):\n",
    "    model.fit(X_train, y_train)\n",
    "    y_pred = model.predict(X_test)\n",
    "    y_prob = model.predict_proba(X_test)[:, 1] if hasattr(model, \"predict_proba\") else None\n",
    "\n",
    "    print(f\"{name} Performance:\")\n",
    "    print(\"Accuracy:\", accuracy_score(y_test, y_pred))\n",
    "    print(\"Precision:\", precision_score(y_test, y_pred))\n",
    "    print(\"Recall:\", recall_score(y_test, y_pred))\n",
    "    print(\"F1-score:\", f1_score(y_test, y_pred))\n",
    "    print(\"-\" * 40)\n",
    "\n",
    "    # ROC Curve\n",
    "    if y_prob is not None:\n",
    "        fpr, tpr, _ = roc_curve(y_test, y_prob)\n",
    "        auc_score = auc(fpr, tpr)\n",
    "        plt.plot(fpr, tpr, label=f\"{name} (AUC = {auc_score:.2f})\")\n",
    "    return model\n"
   ]
  },
  {
   "cell_type": "code",
   "execution_count": 5,
   "id": "ce62e25d",
   "metadata": {},
   "outputs": [
    {
     "name": "stdout",
     "output_type": "stream",
     "text": [
      "Logistic Regression Performance:\n",
      "Accuracy: 0.7803468208092486\n",
      "Precision: 0.7987421383647799\n",
      "Recall: 0.9548872180451128\n",
      "F1-score: 0.8698630136986302\n",
      "----------------------------------------\n",
      "Decision Tree Performance:\n",
      "Accuracy: 0.861271676300578\n",
      "Precision: 0.9097744360902256\n",
      "Recall: 0.9097744360902256\n",
      "F1-score: 0.9097744360902256\n",
      "----------------------------------------\n",
      "Random Forest Performance:\n",
      "Accuracy: 0.8901734104046243\n",
      "Precision: 0.9071428571428571\n",
      "Recall: 0.9548872180451128\n",
      "F1-score: 0.9304029304029304\n",
      "----------------------------------------\n",
      "Support Vector Machine Performance:\n",
      "Accuracy: 0.8323699421965318\n",
      "Precision: 0.8823529411764706\n",
      "Recall: 0.9022556390977443\n",
      "F1-score: 0.8921933085501859\n",
      "----------------------------------------\n"
     ]
    },
    {
     "data": {
      "image/png": "[encoded data removed]",
      "text/plain": [
       "<Figure size 640x480 with 1 Axes>"
      ]
     },
     "metadata": {},
     "output_type": "display_data"
    }
   ],
   "source": [
    "# Dictionary to hold trained models\n",
    "models = {}\n",
    "\n",
    "# Logistic Regression\n",
    "models[\"Logistic Regression\"] = evaluate_model(\n",
    "    \"Logistic Regression\",\n",
    "    LogisticRegression(max_iter=1000),\n",
    "    X_train_scaled, y_train, X_test_scaled, y_test\n",
    ")\n",
    "\n",
    "# Decision Tree\n",
    "models[\"Decision Tree\"] = evaluate_model(\n",
    "    \"Decision Tree\",\n",
    "    DecisionTreeClassifier(random_state=42),\n",
    "    X_train, y_train, X_test, y_test\n",
    ")\n",
    "\n",
    "# Random Forest\n",
    "models[\"Random Forest\"] = evaluate_model(\n",
    "    \"Random Forest\",\n",
    "    RandomForestClassifier(random_state=42),\n",
    "    X_train, y_train, X_test, y_test\n",
    ")\n",
    "\n",
    "# Support Vector Machine (SVM)\n",
    "models[\"SVM\"] = evaluate_model(\n",
    "    \"Support Vector Machine\",\n",
    "    SVC(kernel='rbf', probability=True),\n",
    "    X_train_scaled, y_train, X_test_scaled, y_test\n",
    ")\n"
   ]
  }
 ],
 "metadata": {
  "kernelspec": {
   "display_name": "Python 3",
   "language": "python",
   "name": "python3"
  },
  "language_info": {
   "codemirror_mode": {
    "name": "ipython",
    "version": 3
   },
   "file_extension": ".py",
   "mimetype": "text/x-python",
   "name": "python",
   "nbconvert_exporter": "python",
   "pygments_lexer": "ipython3",
   "version": "3.11.7"
  }
 },
 "nbformat": 4,
 "nbformat_minor": 5
}
